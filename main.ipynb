{
 "cells": [
  {
   "cell_type": "code",
   "execution_count": 1,
   "metadata": {},
   "outputs": [],
   "source": [
    "import os\n",
    "import cv2\n",
    "import numpy as np"
   ]
  },
  {
   "cell_type": "code",
   "execution_count": 2,
   "metadata": {},
   "outputs": [],
   "source": [
    "# import torch\n",
    "# import torch.nn as nn\n",
    "# from torchvision.models import mobilenet_v2\n",
    "# from torch.nn import functional as F\n",
    "\n",
    "# class Eye_model(nn.Module):\n",
    "#     def __init__(self, num_classes=2):\n",
    "#         super(Eye_model, self).__init__()\n",
    "\n",
    "#         # Load pretrained MobilenetV2 model\n",
    "#         self.base_model = mobilenet_v2(pretrained=True)\n",
    "#         out_features = self.base_model.classifier[1].out_features\n",
    "        \n",
    "#         # Add custom layers\n",
    "#         self.head = nn.Sequential(\n",
    "#             nn.Flatten(),\n",
    "#             nn.Linear(out_features, 64),\n",
    "#             nn.ReLU(),\n",
    "#             nn.Dropout(0.5),\n",
    "#             nn.Linear(64, num_classes),\n",
    "#         )\n",
    "        \n",
    "#         # Freeze base model layers\n",
    "#         for param in self.base_model.parameters():\n",
    "#             param.requires_grad = False\n",
    "\n",
    "#     def forward(self, inp):\n",
    "#         x = self.base_model(inp)\n",
    "#         if isinstance(x, tuple):\n",
    "#             x = x[0]\n",
    "#         return self.head(x)\n",
    "\n",
    "# model = Eye_model(num_classes=2)"
   ]
  },
  {
   "cell_type": "code",
   "execution_count": 3,
   "metadata": {},
   "outputs": [
    {
     "name": "stderr",
     "output_type": "stream",
     "text": [
      "C:\\Users\\ASUS\\AppData\\Local\\Packages\\PythonSoftwareFoundation.Python.3.11_qbz5n2kfra8p0\\LocalCache\\local-packages\\Python311\\site-packages\\torchvision\\models\\_utils.py:208: UserWarning: The parameter 'pretrained' is deprecated since 0.13 and may be removed in the future, please use 'weights' instead.\n",
      "  warnings.warn(\n",
      "C:\\Users\\ASUS\\AppData\\Local\\Packages\\PythonSoftwareFoundation.Python.3.11_qbz5n2kfra8p0\\LocalCache\\local-packages\\Python311\\site-packages\\torchvision\\models\\_utils.py:223: UserWarning: Arguments other than a weight enum or `None` for 'weights' are deprecated since 0.13 and may be removed in the future. The current behavior is equivalent to passing `weights=MobileNet_V2_Weights.IMAGENET1K_V1`. You can also use `weights=MobileNet_V2_Weights.DEFAULT` to get the most up-to-date weights.\n",
      "  warnings.warn(msg)\n"
     ]
    }
   ],
   "source": [
    "from model_architecture import Eye_model\n",
    "\n",
    "model = Eye_model(num_classes=2)"
   ]
  },
  {
   "cell_type": "code",
   "execution_count": 5,
   "metadata": {},
   "outputs": [
    {
     "name": "stderr",
     "output_type": "stream",
     "text": [
      "C:\\Users\\ASUS\\AppData\\Local\\Temp\\ipykernel_18316\\3913100349.py:4: FutureWarning: You are using `torch.load` with `weights_only=False` (the current default value), which uses the default pickle module implicitly. It is possible to construct malicious pickle data which will execute arbitrary code during unpickling (See https://github.com/pytorch/pytorch/blob/main/SECURITY.md#untrusted-models for more details). In a future release, the default value for `weights_only` will be flipped to `True`. This limits the functions that could be executed during unpickling. Arbitrary objects will no longer be allowed to be loaded via this mode unless they are explicitly allowlisted by the user via `torch.serialization.add_safe_globals`. We recommend you start setting `weights_only=True` for any use case where you don't have full control of the loaded file. Please open an issue on GitHub for any issues related to this experimental feature.\n",
      "  model.load_state_dict(torch.load(r\"D:\\CSES\\Year2\\IoT\\Project\\checkpoint.pt\", map_location=torch.device('cpu')))\n"
     ]
    },
    {
     "data": {
      "text/plain": [
       "<All keys matched successfully>"
      ]
     },
     "execution_count": 5,
     "metadata": {},
     "output_type": "execute_result"
    }
   ],
   "source": [
    "import torch\n",
    "\n",
    "# Load weights\n",
    "model.load_state_dict(torch.load(r\"D:\\CSES\\Year2\\IoT\\Project\\checkpoint.pt\", map_location=torch.device('cpu')))"
   ]
  },
  {
   "cell_type": "code",
   "execution_count": 21,
   "metadata": {},
   "outputs": [],
   "source": [
    "import cv2\n",
    "import time\n",
    "import torch\n",
    "import numpy as np\n",
    "from PIL import Image\n",
    "from collections import deque\n",
    "import matplotlib.pyplot as plt\n",
    "import torch.nn.functional as F\n",
    "from torchvision import transforms\n",
    "\n",
    "def preprocess(img):\n",
    "  transform = transforms.Compose([\n",
    "      transforms.Resize(256),\n",
    "      transforms.RandomCrop(224),\n",
    "      transforms.RandomHorizontalFlip(),\n",
    "      transforms.RandomRotation(10),\n",
    "      transforms.ToTensor(),\n",
    "      transforms.Normalize(mean=[0.485, 0.456, 0.406], std=[0.229, 0.224, 0.225])\n",
    "  ])\n",
    "  return transform(img)\n",
    "\n",
    "def display_output(img, predicted_class, landmarks_list=None):\n",
    "  height, width, _ = img.shape\n",
    "  font = cv2.FONT_HERSHEY_SIMPLEX\n",
    "  font_scale = 2\n",
    "  thickness = 3\n",
    "  color = (0, 0, 255)  # Red\n",
    "\n",
    "  text = str(predicted_class)\n",
    "  (text_width, text_height), _ = cv2.getTextSize(text, font, font_scale, thickness)\n",
    "\n",
    "  # Bottom-right corner position (10 pixels padding)\n",
    "  x = width - text_width - 10\n",
    "  y = height - 10\n",
    "  cv2.putText(img, text, (x, y), font, font_scale, color, thickness)\n",
    "\n",
    "  # Draw facial landmarks if available\n",
    "  if landmarks_list:\n",
    "      for landmarks in landmarks_list:\n",
    "          for (x, y) in landmarks:\n",
    "              cv2.circle(img, (x, y), 2, (0, 255, 0), -1)\n",
    "\n",
    "  cv2.imshow(\"output\", img)\n",
    "  return img\n",
    "\n",
    "def save_image(img, pred_class, count, f_name):\n",
    "  if pred_class is not None:\n",
    "    cv2.imwrite('out/{}_frame-{:03d}.jpg'.format(pred_class, count), img)\n",
    "  else:\n",
    "    cv2.imwrite('{}/frame-{:03d}.jpg'.format(f_name, count), img)\n",
    "  count += 1\n",
    "  return count\n",
    "\n",
    "def define_labels():\n",
    "  labels = {\n",
    "      0 : 'aware',\n",
    "      1 : 'drowsy',\n",
    "      \n",
    "    }\n",
    "  return labels\n",
    "\n",
    "def recognize():\n",
    "    labels = define_labels()\n",
    "    cam = cv2.VideoCapture(0)\n",
    "    out_count = 1\n",
    "    thresh_count = 1\n",
    "    inp_count = 1\n",
    "    history = deque(maxlen=7)  # Sliding window of last 7 predictions\n",
    "\n",
    "    model.eval()\n",
    "    with torch.no_grad():\n",
    "        while True:\n",
    "            ret, img = cam.read()\n",
    "            if not ret:\n",
    "                break\n",
    "            img = cv2.flip(img, 1)\n",
    "            img_copy = img.copy()\n",
    "\n",
    "            img = Image.fromarray(img)\n",
    "            img_tensor = preprocess(img)\n",
    "            img_tensor = img_tensor.unsqueeze(0)\n",
    "\n",
    "            pred = model(img_tensor)\n",
    "            class_id = pred.argmax().item()\n",
    "            history.append(class_id)\n",
    "\n",
    "            # Apply majority vote\n",
    "            stable_pred = max(set(history), key=history.count)\n",
    "            predicted_class = labels[stable_pred]\n",
    "\n",
    "            ret_img = display_output(img_copy, predicted_class)\n",
    "\n",
    "            if cv2.waitKey(1) == ord('s'):\n",
    "                inp_count = save_image(img_copy, None, inp_count, 'inp')\n",
    "                out_count = save_image(ret_img, predicted_class, out_count, 'out')\n",
    "            if cv2.waitKey(1) == ord('q'):\n",
    "                break\n",
    "\n",
    "    cam.release()\n",
    "    cv2.destroyAllWindows()\n",
    "\n",
    "recognize()"
   ]
  },
  {
   "cell_type": "code",
   "execution_count": null,
   "metadata": {},
   "outputs": [],
   "source": []
  }
 ],
 "metadata": {
  "kernelspec": {
   "display_name": "Python 3.11.9 64-bit (microsoft store)",
   "language": "python",
   "name": "python3"
  },
  "language_info": {
   "codemirror_mode": {
    "name": "ipython",
    "version": 3
   },
   "file_extension": ".py",
   "mimetype": "text/x-python",
   "name": "python",
   "nbconvert_exporter": "python",
   "pygments_lexer": "ipython3",
   "version": "3.11.9"
  },
  "vscode": {
   "interpreter": {
    "hash": "9da8354831a1a76e7385765622e29197f528ad38b7148e1cd7d6cac41aa942b5"
   }
  }
 },
 "nbformat": 4,
 "nbformat_minor": 4
}
